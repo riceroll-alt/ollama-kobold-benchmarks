{
 "cells": [
  {
   "cell_type": "markdown",
   "id": "ec13a426",
   "metadata": {},
   "source": [
    "# Introduction\n",
    "Welcome to Riceroll's Koboldcpp and Ollama benchmarking notebook! The sole purpose of this notebook is to demonstrate inference speeds and KV Caching implementation of Ollama and KoboldCPP.\n",
    "\n",
    "You can read about Ollama's KV Cache here: https://smcleod.net/2024/12/bringing-k/v-context-quantisation-to-ollama/  \n",
    "You can learn more about Kobold's Context-Shift here: https://github.com/LostRuins/koboldcpp/wiki#what-is-contextshift  \n",
    "\n",
    "If you’re not familiar with what inference means in LLMs, it simply means the total time it took to:\n",
    "- Process the prompt (system prompts, user prompts, etc.)\n",
    "- Generate tokens (the LLM outputs) \\**This is a little tricky since we also have to consider the number of tokens generated per second.*  \n",
    "\n",
    "We will also be testing out the KV caching features that both KoboldCPP and Ollama implement. They’re KV caching solutions provide good benefits to the overall inference speeds but serve different purposes. I will briefly explain more about them below.  \n",
    "\n",
    "For our model, we will be using Mistral Nemo Instruct Q6_K_L gguf model for our benchmarks. We will also be testing these models using the F16 quantization KV cache.\n",
    "\n",
    "As for the hardware to run these benchmarks and models, it is run on my personal computer with an RTX 5080, Ryzen 7 9800X3D, and 64GB of DDR5 RAM. The GPU has just enough VRAM to fully run a Mistral Nemo Q6_K_L model.\n",
    "\n",
    "With all that being said, let’s dive into the benchmarking! "
   ]
  },
  {
   "cell_type": "markdown",
   "id": "95750eac",
   "metadata": {},
   "source": [
    "### Imports\n",
    "For our modules, we really only need requests. We also have the time module to do some performance benchmarkings."
   ]
  },
  {
   "cell_type": "code",
   "execution_count": 8,
   "id": "0aa527d8-75cd-415e-beb2-01e54d0fbf6b",
   "metadata": {},
   "outputs": [],
   "source": [
    "import requests\n",
    "import time"
   ]
  },
  {
   "cell_type": "markdown",
   "id": "dee49f60",
   "metadata": {},
   "source": [
    "### The Setup\n",
    "We will be using Text Completions endpoints. The reason being is that we can better utilize the KV cache feature of both Ollama and KoboldCPP. We also have a lot of big prompts that will be sent to the same Mistal Nemo Instruct models under Ollama and KoboldCPP. These big prompts are here to simulate long conversations stretching thousands of tokens in the model's context window. Once the context window hits it's max, the KV caching magic happens for both KoboldCPP and Ollama."
   ]
  },
  {
   "cell_type": "code",
   "execution_count": 9,
   "id": "b4781426",
   "metadata": {},
   "outputs": [],
   "source": [
    "# Mistral Nemo Instruct: https://huggingface.co/bartowski/Mistral-Nemo-Instruct-2407-GGUF\n",
    "kobold_url = \"http://127.0.0.1:5001/api/v1/generate\"\n",
    "ollama_url = \"http://127.0.0.1:11434/api/generate\"\n",
    "\n",
    "\n",
    "system = \"You are an advanced AI assistant with expertise across multiple domains including technology, science, history, literature, and social commentary. Your responses should be accurate, detailed, and clear, providing relevant context and examples where appropriate. Always maintain a professional and engaging tone while adapting your style to the user’s level of understanding. When answering technical questions, break down complex concepts step by step and include illustrative analogies to help comprehension. When discussing historical or cultural topics, provide relevant context, dates, and notable figures, and highlight connections to contemporary events if relevant. You should ask clarifying questions if a user’s prompt is ambiguous and summarize key points at the end of your response. Avoid making unsupported claims, and clearly indicate when something is speculative or uncertain. When generating code examples, use clean, well-commented, and idiomatic code. You should also prioritize conciseness where possible, but never sacrifice clarity. Maintain a friendly and approachable style, and encourage curiosity, critical thinking, and nuanced discussion.\"\n",
    "\n",
    "prompts = [\n",
    "    \"As the golden light of the late afternoon sun spilled across the quiet cobblestone streets of the old town, weaving through narrow alleyways where the scent of fresh bread mingled with the faint tang of sea salt drifting in from the harbor, a young traveler paused at the edge of a centuries-old fountain carved with half-worn figures of myth, wondering not only about the countless stories that had unfolded in this square before his arrival, but also about the choices and unseen coincidences that had guided his own winding path to this very moment.\",\n",
    "    \"Beneath the shadow of the towering mountains, where jagged peaks pierced the clouds and the wind carried whispers of ancient legends through the dense forest, a lone scholar carefully unrolled a weathered map dotted with cryptic symbols, each line and curve hinting at hidden paths and forgotten civilizations, all the while pondering how the convergence of fate, curiosity, and a relentless desire for knowledge had led him to this remote, windswept valley at the edge of the known world.\",\n",
    "    \"On the sprawling plains of the Serengeti, the golden grasses swayed in rhythm with the warm, steady wind, as a herd of elephants slowly traversed the landscape, their massive forms casting long shadows in the late afternoon sun. A young naturalist observed from a distance, sketching each detail in his notebook while contemplating the fragile balance between predator and prey that had persisted here for millennia.\",\n",
    "    \"Deep within the labyrinthine corridors of the ancient library, rows upon rows of towering shelves held the accumulated wisdom of countless generations. Candles flickered, casting dancing shadows on the walls, as a scholar carefully extracted a fragile manuscript, marveling at the intricate illustrations and the delicate script, which told tales of empires long forgotten and inventions centuries ahead of their time.\",\n",
    "    \"Along the edge of the Arctic sea ice, where the horizon merged seamlessly with the pale sky, a team of explorers painstakingly recorded measurements of the shifting glaciers. Each creak and groan of the ice echoed across the frozen expanse, reminding them of the impermanence of the landscape and the urgency of their mission to understand the forces driving climate change in this remote and unforgiving environment.\",\n",
    "    \"In the bustling markets of Marrakech, vibrant colors and intoxicating scents mingled as merchants displayed handwoven fabrics, spices, and intricate pottery. A traveler wandered through the crowd, absorbing the energy and rhythm of the city, pondering the cultural layers that had shaped this place over centuries, from ancient trade routes to modern tourism.\",\n",
    "    \"High atop the cliffs overlooking the tempestuous Atlantic, a lighthouse keeper diligently maintained the beacon, its light sweeping across the stormy waters below. In the solitude of the lighthouse, he reflected on the countless ships that had depended on this singular light, understanding the weight of responsibility and the quiet heroism inherent in such solitary dedication.\",\n",
    "    \"Within the hidden gardens of a secluded monastery, monks tended to rare medicinal herbs, their movements deliberate and meditative. The scent of blooming jasmine filled the air as the monks recorded the properties of each plant, preserving ancient knowledge and ensuring that future generations might benefit from the wisdom painstakingly accumulated over centuries.\",\n",
    "    \"In a futuristic city where towering skyscrapers gleamed with holographic advertisements, a robotics engineer calibrated a new AI companion designed to assist citizens in their daily tasks. Each line of code represented not just a technical solution, but also an ethical consideration, balancing utility with privacy and human autonomy.\",\n",
    "    \"Amidst the ruins of a forgotten castle on the misty hills of Scotland, an archaeologist carefully brushed away layers of earth to reveal a mural depicting ancient rituals. Each symbol, each painted line, offered clues to a civilization lost to time, igniting questions about belief systems, social structures, and human ingenuity.\",\n",
    "    \"On the deck of a spaceship hurtling through the void between stars, an astronaut monitored life-support systems while contemplating the vastness of the cosmos. The endless black dotted with distant suns inspired both awe and humility, as well as a deep curiosity about the origins of life and the future of interstellar exploration.\",\n",
    "    \"In a small coastal village, fishermen repaired their nets under the warm glow of lanterns, exchanging stories of storms survived and bountiful catches. The rhythm of the waves and the cries of seabirds provided a timeless soundtrack to a way of life that had endured for generations.\",\n",
    "    \"Within a bustling laboratory, scientists in white coats meticulously conducted experiments on cutting-edge materials, hoping to unlock properties that could revolutionize energy storage. Each test, each observation, was a step toward a future where sustainable technologies reshaped the world.\",\n",
    "    \"Beneath the surface of a crystal-clear lake, a diver marveled at the delicate ecosystem thriving in the submerged forests of kelp and coral. Each movement stirred tiny creatures into motion, highlighting the intricate web of life that often goes unnoticed beneath calm waters.\",\n",
    "    \"In the grand halls of an opera house, the orchestra tuned their instruments while the conductor studied the score, preparing to deliver a performance that would stir the hearts of every audience member. The anticipation in the air was palpable, as music has the power to transcend words and connect deeply with human emotion.\",\n",
    "    \"During an archaeological expedition in Egypt, researchers carefully excavated a tomb, uncovering hieroglyphs and artifacts that offered insights into the lives of pharaohs and common citizens alike. Each discovery was meticulously cataloged, forming a puzzle piece in humanity's collective history.\",\n",
    "    \"On a remote island, a marine biologist studied the nesting patterns of endangered sea turtles, noting the effects of climate change and human interference. The rhythmic sound of waves and the sight of hatchlings scrambling toward the ocean created both a sense of urgency and profound wonder.\",\n",
    "    \"In the quiet study of a philosopher, stacks of books and notes surrounded a thinker contemplating ethics, society, and the human condition. The pursuit of understanding abstract truths intertwined with practical concerns, bridging centuries of thought and modern dilemmas.\",\n",
    "    \"Under the luminous glow of a full moon in the desert, nomadic tribes gathered around fires, sharing stories, songs, and wisdom passed down through generations. The vast, starlit sky reminded everyone of their small place in the universe, fostering both humility and awe.\",\n",
    "    \"At the edge of a volcanic crater, a geologist observed flowing lava and measured gas emissions, studying the forces that shape the Earth's surface. The dynamic and unpredictable nature of volcanoes demanded respect, patience, and keen observation to extract meaningful scientific insights.\",\n",
    "    \"As the golden light of the late afternoon sun spilled across the quiet cobblestone streets of the old town, weaving through narrow alleyways where the scent of fresh bread mingled with the faint tang of sea salt drifting in from the harbor, a young traveler paused at the edge of a centuries-old fountain carved with half-worn figures of myth, wondering not only about the countless stories that had unfolded in this square before his arrival, but also about the choices and unseen coincidences that had guided his own winding path to this very moment.\",\n",
    "    \"Beneath the shadow of the towering mountains, where jagged peaks pierced the clouds and the wind carried whispers of ancient legends through the dense forest, a lone scholar carefully unrolled a weathered map dotted with cryptic symbols, each line and curve hinting at hidden paths and forgotten civilizations, all the while pondering how the convergence of fate, curiosity, and a relentless desire for knowledge had led him to this remote, windswept valley at the edge of the known world.\",\n",
    "    \"On the sprawling plains of the Serengeti, the golden grasses swayed in rhythm with the warm, steady wind, as a herd of elephants slowly traversed the landscape, their massive forms casting long shadows in the late afternoon sun. A young naturalist observed from a distance, sketching each detail in his notebook while contemplating the fragile balance between predator and prey that had persisted here for millennia.\",\n",
    "    \"Deep within the labyrinthine corridors of the ancient library, rows upon rows of towering shelves held the accumulated wisdom of countless generations. Candles flickered, casting dancing shadows on the walls, as a scholar carefully extracted a fragile manuscript, marveling at the intricate illustrations and the delicate script, which told tales of empires long forgotten and inventions centuries ahead of their time.\",\n",
    "    \"Along the edge of the Arctic sea ice, where the horizon merged seamlessly with the pale sky, a team of explorers painstakingly recorded measurements of the shifting glaciers. Each creak and groan of the ice echoed across the frozen expanse, reminding them of the impermanence of the landscape and the urgency of their mission to understand the forces driving climate change in this remote and unforgiving environment.\",\n",
    "    \"In the bustling markets of Marrakech, vibrant colors and intoxicating scents mingled as merchants displayed handwoven fabrics, spices, and intricate pottery. A traveler wandered through the crowd, absorbing the energy and rhythm of the city, pondering the cultural layers that had shaped this place over centuries, from ancient trade routes to modern tourism.\",\n",
    "    \"High atop the cliffs overlooking the tempestuous Atlantic, a lighthouse keeper diligently maintained the beacon, its light sweeping across the stormy waters below. In the solitude of the lighthouse, he reflected on the countless ships that had depended on this singular light, understanding the weight of responsibility and the quiet heroism inherent in such solitary dedication.\",\n",
    "    \"Within the hidden gardens of a secluded monastery, monks tended to rare medicinal herbs, their movements deliberate and meditative. The scent of blooming jasmine filled the air as the monks recorded the properties of each plant, preserving ancient knowledge and ensuring that future generations might benefit from the wisdom painstakingly accumulated over centuries.\",\n",
    "    \"In a futuristic city where towering skyscrapers gleamed with holographic advertisements, a robotics engineer calibrated a new AI companion designed to assist citizens in their daily tasks. Each line of code represented not just a technical solution, but also an ethical consideration, balancing utility with privacy and human autonomy.\",\n",
    "    \"Amidst the ruins of a forgotten castle on the misty hills of Scotland, an archaeologist carefully brushed away layers of earth to reveal a mural depicting ancient rituals. Each symbol, each painted line, offered clues to a civilization lost to time, igniting questions about belief systems, social structures, and human ingenuity.\",\n",
    "    \"On the deck of a spaceship hurtling through the void between stars, an astronaut monitored life-support systems while contemplating the vastness of the cosmos. The endless black dotted with distant suns inspired both awe and humility, as well as a deep curiosity about the origins of life and the future of interstellar exploration.\",\n",
    "    \"In a small coastal village, fishermen repaired their nets under the warm glow of lanterns, exchanging stories of storms survived and bountiful catches. The rhythm of the waves and the cries of seabirds provided a timeless soundtrack to a way of life that had endured for generations.\",\n",
    "    \"Within a bustling laboratory, scientists in white coats meticulously conducted experiments on cutting-edge materials, hoping to unlock properties that could revolutionize energy storage. Each test, each observation, was a step toward a future where sustainable technologies reshaped the world.\",\n",
    "    \"Beneath the surface of a crystal-clear lake, a diver marveled at the delicate ecosystem thriving in the submerged forests of kelp and coral. Each movement stirred tiny creatures into motion, highlighting the intricate web of life that often goes unnoticed beneath calm waters.\",\n",
    "    \"In the grand halls of an opera house, the orchestra tuned their instruments while the conductor studied the score, preparing to deliver a performance that would stir the hearts of every audience member. The anticipation in the air was palpable, as music has the power to transcend words and connect deeply with human emotion.\",\n",
    "    \"During an archaeological expedition in Egypt, researchers carefully excavated a tomb, uncovering hieroglyphs and artifacts that offered insights into the lives of pharaohs and common citizens alike. Each discovery was meticulously cataloged, forming a puzzle piece in humanity's collective history.\",\n",
    "    \"On a remote island, a marine biologist studied the nesting patterns of endangered sea turtles, noting the effects of climate change and human interference. The rhythmic sound of waves and the sight of hatchlings scrambling toward the ocean created both a sense of urgency and profound wonder.\",\n",
    "    \"In the quiet study of a philosopher, stacks of books and notes surrounded a thinker contemplating ethics, society, and the human condition. The pursuit of understanding abstract truths intertwined with practical concerns, bridging centuries of thought and modern dilemmas.\",\n",
    "    \"Under the luminous glow of a full moon in the desert, nomadic tribes gathered around fires, sharing stories, songs, and wisdom passed down through generations. The vast, starlit sky reminded everyone of their small place in the universe, fostering both humility and awe.\",\n",
    "    \"At the edge of a volcanic crater, a geologist observed flowing lava and measured gas emissions, studying the forces that shape the Earth's surface. The dynamic and unpredictable nature of volcanoes demanded respect, patience, and keen observation to extract meaningful scientific insights.\"\n",
    "]\n",
    "\n",
    "max_length = 100\n",
    "\n",
    "def count_tokens(text):\n",
    "    return len(text.split())"
   ]
  },
  {
   "cell_type": "markdown",
   "id": "c21a5d93",
   "metadata": {},
   "source": [
    "### Inferencing with long conversations\n",
    "We have defined methods below to simulate conversations with memory. This means that for each inference, we are also sending past conversations as part of the full prompt. This is to simulate LLMs online like ChatGPT, Gemini, JAIson, and others that have memory and remember past conversations.  \n",
    "\n",
    "In real world scenarios, it's not only just the conversations that takes up the context, but also other extra information like web search, RAG, personality prompts, etc."
   ]
  },
  {
   "cell_type": "code",
   "execution_count": 14,
   "id": "32cb8510",
   "metadata": {},
   "outputs": [],
   "source": [
    "def kobold_incremental(prompts):\n",
    "    context = \"\"\n",
    "    results = []\n",
    "    for prompt in prompts:\n",
    "        full_prompt = f\"{context}User: Repeat this word by word: \\\"{prompt}\\\"\\nAssistant:\"\n",
    "        data = {\n",
    "            \"max_context_length\": 4096,\n",
    "            \"max_length\": max_length,\n",
    "            \"memory\": system,\n",
    "            \"prompt\": full_prompt,\n",
    "            \"quiet\": True,\n",
    "            \"temperature\": 0.3,\n",
    "            \"top_k\": 100,\n",
    "            \"top_p\": 0.9,\n",
    "            \"stop_sequence\": [\"\\n\"]\n",
    "        }\n",
    "        start = time.perf_counter()\n",
    "        result = requests.post(kobold_url, json=data)\n",
    "        end = time.perf_counter()\n",
    "        text = result.json()[\"results\"][0][\"text\"]\n",
    "        tokens = count_tokens(text)\n",
    "        tps = tokens / (end - start)\n",
    "        print(f\"[KoboldCPP] Tokens: {tokens}, Time: {end-start:.3f}s, TPS: {tps:.2f}\")\n",
    "        context += f\"User: Repeat this word by word: \\\"{prompt}\\\"\\nAssistant: {text}\\n\"\n",
    "        results.append((text, end - start, tps))\n",
    "    return results"
   ]
  },
  {
   "cell_type": "code",
   "execution_count": 11,
   "id": "96cb0da2",
   "metadata": {},
   "outputs": [],
   "source": [
    "def ollama_incremental(prompts):\n",
    "    context = \"\"\n",
    "    results = []\n",
    "    for prompt in prompts:\n",
    "        full_prompt = f\"{context}User: Repeat this word by word: \\\"{prompt}\\\"\\nAssistant:\"\n",
    "        body = {\n",
    "            \"model\": \"mistral-nemo\",\n",
    "            \"system\": system,\n",
    "            \"prompt\": full_prompt,\n",
    "            \"stream\": False,\n",
    "            \"options\": {\n",
    "                \"num_ctx\": 4096,\n",
    "                \"num_predict\": max_length,\n",
    "                \"temperature\": 0.3,\n",
    "                \"top_k\": 100,\n",
    "                \"top_p\": 0.9,\n",
    "                \"stop\": [\"\\n\"]\n",
    "            }\n",
    "        }\n",
    "        start = time.perf_counter()\n",
    "        result = requests.post(ollama_url, json=body)\n",
    "        end = time.perf_counter()\n",
    "        text = result.json()[\"response\"]\n",
    "        tokens = count_tokens(text)\n",
    "        tps = tokens / (end - start)\n",
    "        print(f\"[Ollama] Tokens: {tokens}, Time: {end-start:.3f}s, TPS: {tps:.2f}\")\n",
    "        context += f\"User: Repeat this word by word: \\\"{prompt}\\\"\\nAssistant: {text}\\n\"\n",
    "        results.append((text, end - start, tps))\n",
    "    return results"
   ]
  },
  {
   "cell_type": "markdown",
   "id": "d719462c",
   "metadata": {},
   "source": [
    "### Ready. Set. Go!\n",
    "\n",
    "Alrighty, with that all set up, let's begin. Firstly, we need to make sure that KoboldCPP and Ollama instances are **not** running at the same time, hogging each other compute resources. Let's start off with Ollama. Using `ollama run <insert mistral model name here>` and `ollama ps` to make sure that our Mistral model is running and using 100% GPU. After that, we will run the below cell."
   ]
  },
  {
   "cell_type": "code",
   "execution_count": 12,
   "id": "f0e141e4",
   "metadata": {},
   "outputs": [
    {
     "name": "stdout",
     "output_type": "stream",
     "text": [
      "\n",
      "=== Ollama Incremental Context Test ===\n",
      "[Ollama] Tokens: 87, Time: 2.096s, TPS: 41.50\n",
      "[Ollama] Tokens: 79, Time: 1.913s, TPS: 41.29\n",
      "[Ollama] Tokens: 66, Time: 1.668s, TPS: 39.56\n",
      "[Ollama] Tokens: 61, Time: 1.507s, TPS: 40.47\n",
      "[Ollama] Tokens: 67, Time: 1.655s, TPS: 40.49\n",
      "[Ollama] Tokens: 53, Time: 1.451s, TPS: 36.53\n",
      "[Ollama] Tokens: 56, Time: 1.336s, TPS: 41.90\n",
      "[Ollama] Tokens: 53, Time: 1.285s, TPS: 41.23\n",
      "[Ollama] Tokens: 49, Time: 1.266s, TPS: 38.70\n",
      "[Ollama] Tokens: 51, Time: 1.303s, TPS: 39.13\n",
      "[Ollama] Tokens: 53, Time: 1.315s, TPS: 40.31\n",
      "[Ollama] Tokens: 47, Time: 1.149s, TPS: 40.89\n",
      "[Ollama] Tokens: 39, Time: 1.007s, TPS: 38.72\n",
      "[Ollama] Tokens: 43, Time: 1.105s, TPS: 38.93\n",
      "[Ollama] Tokens: 54, Time: 1.178s, TPS: 45.85\n",
      "[Ollama] Tokens: 40, Time: 1.074s, TPS: 37.25\n",
      "[Ollama] Tokens: 47, Time: 1.092s, TPS: 43.05\n",
      "[Ollama] Tokens: 39, Time: 0.987s, TPS: 39.53\n",
      "[Ollama] Tokens: 43, Time: 1.140s, TPS: 37.71\n",
      "[Ollama] Tokens: 42, Time: 1.024s, TPS: 41.01\n",
      "[Ollama] Tokens: 86, Time: 1.934s, TPS: 44.46\n",
      "[Ollama] Tokens: 79, Time: 1.958s, TPS: 40.35\n",
      "[Ollama] Tokens: 66, Time: 1.689s, TPS: 39.08\n",
      "[Ollama] Tokens: 61, Time: 1.518s, TPS: 40.18\n",
      "[Ollama] Tokens: 67, Time: 1.672s, TPS: 40.07\n",
      "[Ollama] Tokens: 53, Time: 1.475s, TPS: 35.94\n",
      "[Ollama] Tokens: 56, Time: 2.820s, TPS: 19.86\n",
      "[Ollama] Tokens: 53, Time: 2.764s, TPS: 19.17\n",
      "[Ollama] Tokens: 49, Time: 2.752s, TPS: 17.80\n",
      "[Ollama] Tokens: 51, Time: 2.765s, TPS: 18.45\n",
      "[Ollama] Tokens: 53, Time: 2.786s, TPS: 19.02\n",
      "[Ollama] Tokens: 47, Time: 2.617s, TPS: 17.96\n",
      "[Ollama] Tokens: 39, Time: 2.491s, TPS: 15.66\n",
      "[Ollama] Tokens: 43, Time: 2.577s, TPS: 16.69\n",
      "[Ollama] Tokens: 54, Time: 2.663s, TPS: 20.28\n",
      "[Ollama] Tokens: 40, Time: 2.554s, TPS: 15.66\n",
      "[Ollama] Tokens: 47, Time: 2.579s, TPS: 18.22\n",
      "[Ollama] Tokens: 39, Time: 2.474s, TPS: 15.76\n",
      "[Ollama] Tokens: 43, Time: 2.620s, TPS: 16.41\n",
      "[Ollama] Tokens: 42, Time: 2.510s, TPS: 16.73\n"
     ]
    }
   ],
   "source": [
    "print(\"\\n=== Ollama Incremental Context Test ===\")\n",
    "ollama_results = ollama_incremental(prompts)"
   ]
  },
  {
   "cell_type": "markdown",
   "id": "cfc20120",
   "metadata": {},
   "source": [
    "### Ollama Observations\n",
    "From initial observations, it actually looks like Ollama had a really strong start! Very similar results to KoboldCPP below. However, you will also notice that the TPS (Tokens Per Second) actually gets slower as the conversation grows.  \n",
    "\n",
    "Let's run KoboldCPP benchmarks, now!"
   ]
  },
  {
   "cell_type": "code",
   "execution_count": 13,
   "id": "dde67052",
   "metadata": {},
   "outputs": [
    {
     "name": "stdout",
     "output_type": "stream",
     "text": [
      "\n",
      "=== KoboldCPP Incremental Context Test ===\n",
      "[KoboldCPP] Tokens: 86, Time: 1.963s, TPS: 43.80\n",
      "[KoboldCPP] Tokens: 79, Time: 1.855s, TPS: 42.59\n",
      "[KoboldCPP] Tokens: 66, Time: 1.656s, TPS: 39.86\n",
      "[KoboldCPP] Tokens: 61, Time: 1.473s, TPS: 41.41\n",
      "[KoboldCPP] Tokens: 67, Time: 1.601s, TPS: 41.86\n",
      "[KoboldCPP] Tokens: 53, Time: 1.427s, TPS: 37.14\n",
      "[KoboldCPP] Tokens: 56, Time: 1.381s, TPS: 40.56\n",
      "[KoboldCPP] Tokens: 53, Time: 1.306s, TPS: 40.59\n",
      "[KoboldCPP] Tokens: 49, Time: 1.279s, TPS: 38.31\n",
      "[KoboldCPP] Tokens: 51, Time: 1.300s, TPS: 39.24\n",
      "[KoboldCPP] Tokens: 53, Time: 1.323s, TPS: 40.07\n",
      "[KoboldCPP] Tokens: 47, Time: 1.194s, TPS: 39.36\n",
      "[KoboldCPP] Tokens: 39, Time: 1.037s, TPS: 37.60\n",
      "[KoboldCPP] Tokens: 43, Time: 1.125s, TPS: 38.23\n",
      "[KoboldCPP] Tokens: 54, Time: 1.171s, TPS: 46.12\n",
      "[KoboldCPP] Tokens: 40, Time: 1.113s, TPS: 35.95\n",
      "[KoboldCPP] Tokens: 47, Time: 1.100s, TPS: 42.73\n",
      "[KoboldCPP] Tokens: 39, Time: 1.026s, TPS: 38.01\n",
      "[KoboldCPP] Tokens: 43, Time: 1.158s, TPS: 37.14\n",
      "[KoboldCPP] Tokens: 42, Time: 1.071s, TPS: 39.22\n",
      "[KoboldCPP] Tokens: 85, Time: 1.830s, TPS: 46.45\n",
      "[KoboldCPP] Tokens: 78, Time: 1.899s, TPS: 41.07\n",
      "[KoboldCPP] Tokens: 66, Time: 1.693s, TPS: 38.98\n",
      "[KoboldCPP] Tokens: 61, Time: 1.516s, TPS: 40.23\n",
      "[KoboldCPP] Tokens: 67, Time: 1.669s, TPS: 40.14\n",
      "[KoboldCPP] Tokens: 53, Time: 1.496s, TPS: 35.44\n",
      "[KoboldCPP] Tokens: 56, Time: 1.443s, TPS: 38.80\n",
      "[KoboldCPP] Tokens: 53, Time: 1.386s, TPS: 38.23\n",
      "[KoboldCPP] Tokens: 49, Time: 1.350s, TPS: 36.30\n",
      "[KoboldCPP] Tokens: 51, Time: 1.374s, TPS: 37.12\n",
      "[KoboldCPP] Tokens: 53, Time: 1.402s, TPS: 37.81\n",
      "[KoboldCPP] Tokens: 47, Time: 1.241s, TPS: 37.86\n",
      "[KoboldCPP] Tokens: 39, Time: 1.089s, TPS: 35.80\n",
      "[KoboldCPP] Tokens: 43, Time: 1.185s, TPS: 36.29\n",
      "[KoboldCPP] Tokens: 54, Time: 1.230s, TPS: 43.89\n",
      "[KoboldCPP] Tokens: 40, Time: 1.152s, TPS: 34.73\n",
      "[KoboldCPP] Tokens: 47, Time: 1.181s, TPS: 39.78\n",
      "[KoboldCPP] Tokens: 39, Time: 1.074s, TPS: 36.31\n",
      "[KoboldCPP] Tokens: 43, Time: 1.199s, TPS: 35.85\n",
      "[KoboldCPP] Tokens: 42, Time: 1.120s, TPS: 37.50\n"
     ]
    }
   ],
   "source": [
    "print(\"\\n=== KoboldCPP Incremental Context Test ===\")\n",
    "kobold_results = kobold_incremental(prompts)"
   ]
  },
  {
   "cell_type": "markdown",
   "id": "1e2726f0",
   "metadata": {},
   "source": [
    "### KoboldCPP observations\n",
    "KoboldCPP also started very strong, roughly matching Ollama's speed! However, look at how KoboldCPP's TPS does not slow down nearly as much compared to Ollama. In fact, KoboldCPP seems very consistent with the TPS speeds. But why is that?"
   ]
  },
  {
   "cell_type": "markdown",
   "id": "55597864",
   "metadata": {},
   "source": [
    "# KoboldCPP Context-Shift vs Ollama KV Caching\n",
    "Without going into too much detail (You can find more details on the articles I listed at the very top), here's a simple explanation as to what's really going on behind the scenes.  \n",
    "\n",
    "Firstly, Let's talk about **KoboldCPP's Context-Shift**. With context-shift, the model keeps track of previous conversation tokens in memory and shifts them via KV Cache Shifting as new tokens arrive. When the max_context_length is reached, the Kobold drops any old tokens from the earliest part of the conversation. What's special about this is that when they drop the old conversations, they can add any new tokens/conversation into the current context and completely avoid reprocessing of the full prompt + system prompt. This explains why KoboldCPP can maintain a steady TPS as shown in the benchmarks above. The only downside is that context-shift does affect the TPS but very minimally.\n",
    "\n",
    "But what about **Ollama's KV Caching**? Simply put, it just stores Key/Value embeddings of past tokens in the context. What's neat about this is that there is absolutely no reprocessing **only on parts of the prompt that hasn't changed** *and* **as long as the max context window is not reached**. Once the max context window overflows, Ollama will need to throw out old parts of the conversation, add the new parts in, and then they **must reprocess everything**. And at this point, every inference potentially makes it slower and slower each time because it has to do the \"oh no! too much stuff! time to throw old stuff out, bring new stuff in, and reprocess everything\" over and over. The pros to this approach is that your TPS initially is blazing fast (theoretically, Ollama's TPS would be faster than KoboldCPP's initially). The biggest cons however is that once you reach that max context windows, it's going to chug.  \n",
    "\n",
    "At the end of the day, both Ollama and Kobold are amazing solutions to run LLM models. However, if you need something to hold longer conversations and be consistently fast, Kobold is my choice. If you want ease of use and don't mind keeping track of the number of tokens in your model to prevent max ctx window overflow, then Ollama is a fantastic choice as well."
   ]
  }
 ],
 "metadata": {
  "kernelspec": {
   "display_name": "ollama",
   "language": "python",
   "name": "python3"
  },
  "language_info": {
   "codemirror_mode": {
    "name": "ipython",
    "version": 3
   },
   "file_extension": ".py",
   "mimetype": "text/x-python",
   "name": "python",
   "nbconvert_exporter": "python",
   "pygments_lexer": "ipython3",
   "version": "3.10.11"
  }
 },
 "nbformat": 4,
 "nbformat_minor": 5
}
